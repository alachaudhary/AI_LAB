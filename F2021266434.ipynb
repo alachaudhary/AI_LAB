{
  "nbformat": 4,
  "nbformat_minor": 0,
  "metadata": {
    "colab": {
      "provenance": [],
      "include_colab_link": true
    },
    "kernelspec": {
      "name": "python3",
      "display_name": "Python 3"
    },
    "language_info": {
      "name": "python"
    }
  },
  "cells": [
    {
      "cell_type": "markdown",
      "metadata": {
        "id": "view-in-github",
        "colab_type": "text"
      },
      "source": [
        "<a href=\"https://colab.research.google.com/github/alachaudhary/AI_LAB/blob/main/F2021266434.ipynb\" target=\"_parent\"><img src=\"https://colab.research.google.com/assets/colab-badge.svg\" alt=\"Open In Colab\"/></a>"
      ]
    },
    {
      "cell_type": "code",
      "source": [
        "from google.colab import drive\n",
        "drive.mount('/content/drive')"
      ],
      "metadata": {
        "colab": {
          "base_uri": "https://localhost:8080/"
        },
        "id": "xpQEDdKXUOPl",
        "outputId": "502b8855-3b7e-445e-98fa-40867068d244"
      },
      "execution_count": null,
      "outputs": [
        {
          "output_type": "stream",
          "name": "stdout",
          "text": [
            "Mounted at /content/drive\n"
          ]
        }
      ]
    },
    {
      "cell_type": "code",
      "execution_count": 1,
      "metadata": {
        "id": "-2eLe-h-6HNS",
        "colab": {
          "base_uri": "https://localhost:8080/",
          "height": 206
        },
        "outputId": "b1a5d55f-d4f2-4ef7-a15e-45637033bab1"
      },
      "outputs": [
        {
          "output_type": "execute_result",
          "data": {
            "text/plain": [
              "   sentiment          id                          date     query  \\\n",
              "0          0  1467810369  Mon Apr 06 22:19:45 PDT 2009  NO_QUERY   \n",
              "1          0  1467810672  Mon Apr 06 22:19:49 PDT 2009  NO_QUERY   \n",
              "2          0  1467810917  Mon Apr 06 22:19:53 PDT 2009  NO_QUERY   \n",
              "3          0  1467811184  Mon Apr 06 22:19:57 PDT 2009  NO_QUERY   \n",
              "4          0  1467811193  Mon Apr 06 22:19:57 PDT 2009  NO_QUERY   \n",
              "\n",
              "           user_id                                               text  \n",
              "0  _TheSpecialOne_  @switchfoot http://twitpic.com/2y1zl - Awww, t...  \n",
              "1    scotthamilton  is upset that he can't update his Facebook by ...  \n",
              "2         mattycus  @Kenichan I dived many times for the ball. Man...  \n",
              "3          ElleCTF    my whole body feels itchy and like its on fire   \n",
              "4           Karoli  @nationwideclass no, it's not behaving at all....  "
            ],
            "text/html": [
              "\n",
              "  <div id=\"df-b6433e17-be2b-4dbb-ba18-b8f10dbf8e05\" class=\"colab-df-container\">\n",
              "    <div>\n",
              "<style scoped>\n",
              "    .dataframe tbody tr th:only-of-type {\n",
              "        vertical-align: middle;\n",
              "    }\n",
              "\n",
              "    .dataframe tbody tr th {\n",
              "        vertical-align: top;\n",
              "    }\n",
              "\n",
              "    .dataframe thead th {\n",
              "        text-align: right;\n",
              "    }\n",
              "</style>\n",
              "<table border=\"1\" class=\"dataframe\">\n",
              "  <thead>\n",
              "    <tr style=\"text-align: right;\">\n",
              "      <th></th>\n",
              "      <th>sentiment</th>\n",
              "      <th>id</th>\n",
              "      <th>date</th>\n",
              "      <th>query</th>\n",
              "      <th>user_id</th>\n",
              "      <th>text</th>\n",
              "    </tr>\n",
              "  </thead>\n",
              "  <tbody>\n",
              "    <tr>\n",
              "      <th>0</th>\n",
              "      <td>0</td>\n",
              "      <td>1467810369</td>\n",
              "      <td>Mon Apr 06 22:19:45 PDT 2009</td>\n",
              "      <td>NO_QUERY</td>\n",
              "      <td>_TheSpecialOne_</td>\n",
              "      <td>@switchfoot http://twitpic.com/2y1zl - Awww, t...</td>\n",
              "    </tr>\n",
              "    <tr>\n",
              "      <th>1</th>\n",
              "      <td>0</td>\n",
              "      <td>1467810672</td>\n",
              "      <td>Mon Apr 06 22:19:49 PDT 2009</td>\n",
              "      <td>NO_QUERY</td>\n",
              "      <td>scotthamilton</td>\n",
              "      <td>is upset that he can't update his Facebook by ...</td>\n",
              "    </tr>\n",
              "    <tr>\n",
              "      <th>2</th>\n",
              "      <td>0</td>\n",
              "      <td>1467810917</td>\n",
              "      <td>Mon Apr 06 22:19:53 PDT 2009</td>\n",
              "      <td>NO_QUERY</td>\n",
              "      <td>mattycus</td>\n",
              "      <td>@Kenichan I dived many times for the ball. Man...</td>\n",
              "    </tr>\n",
              "    <tr>\n",
              "      <th>3</th>\n",
              "      <td>0</td>\n",
              "      <td>1467811184</td>\n",
              "      <td>Mon Apr 06 22:19:57 PDT 2009</td>\n",
              "      <td>NO_QUERY</td>\n",
              "      <td>ElleCTF</td>\n",
              "      <td>my whole body feels itchy and like its on fire</td>\n",
              "    </tr>\n",
              "    <tr>\n",
              "      <th>4</th>\n",
              "      <td>0</td>\n",
              "      <td>1467811193</td>\n",
              "      <td>Mon Apr 06 22:19:57 PDT 2009</td>\n",
              "      <td>NO_QUERY</td>\n",
              "      <td>Karoli</td>\n",
              "      <td>@nationwideclass no, it's not behaving at all....</td>\n",
              "    </tr>\n",
              "  </tbody>\n",
              "</table>\n",
              "</div>\n",
              "    <div class=\"colab-df-buttons\">\n",
              "\n",
              "  <div class=\"colab-df-container\">\n",
              "    <button class=\"colab-df-convert\" onclick=\"convertToInteractive('df-b6433e17-be2b-4dbb-ba18-b8f10dbf8e05')\"\n",
              "            title=\"Convert this dataframe to an interactive table.\"\n",
              "            style=\"display:none;\">\n",
              "\n",
              "  <svg xmlns=\"http://www.w3.org/2000/svg\" height=\"24px\" viewBox=\"0 -960 960 960\">\n",
              "    <path d=\"M120-120v-720h720v720H120Zm60-500h600v-160H180v160Zm220 220h160v-160H400v160Zm0 220h160v-160H400v160ZM180-400h160v-160H180v160Zm440 0h160v-160H620v160ZM180-180h160v-160H180v160Zm440 0h160v-160H620v160Z\"/>\n",
              "  </svg>\n",
              "    </button>\n",
              "\n",
              "  <style>\n",
              "    .colab-df-container {\n",
              "      display:flex;\n",
              "      gap: 12px;\n",
              "    }\n",
              "\n",
              "    .colab-df-convert {\n",
              "      background-color: #E8F0FE;\n",
              "      border: none;\n",
              "      border-radius: 50%;\n",
              "      cursor: pointer;\n",
              "      display: none;\n",
              "      fill: #1967D2;\n",
              "      height: 32px;\n",
              "      padding: 0 0 0 0;\n",
              "      width: 32px;\n",
              "    }\n",
              "\n",
              "    .colab-df-convert:hover {\n",
              "      background-color: #E2EBFA;\n",
              "      box-shadow: 0px 1px 2px rgba(60, 64, 67, 0.3), 0px 1px 3px 1px rgba(60, 64, 67, 0.15);\n",
              "      fill: #174EA6;\n",
              "    }\n",
              "\n",
              "    .colab-df-buttons div {\n",
              "      margin-bottom: 4px;\n",
              "    }\n",
              "\n",
              "    [theme=dark] .colab-df-convert {\n",
              "      background-color: #3B4455;\n",
              "      fill: #D2E3FC;\n",
              "    }\n",
              "\n",
              "    [theme=dark] .colab-df-convert:hover {\n",
              "      background-color: #434B5C;\n",
              "      box-shadow: 0px 1px 3px 1px rgba(0, 0, 0, 0.15);\n",
              "      filter: drop-shadow(0px 1px 2px rgba(0, 0, 0, 0.3));\n",
              "      fill: #FFFFFF;\n",
              "    }\n",
              "  </style>\n",
              "\n",
              "    <script>\n",
              "      const buttonEl =\n",
              "        document.querySelector('#df-b6433e17-be2b-4dbb-ba18-b8f10dbf8e05 button.colab-df-convert');\n",
              "      buttonEl.style.display =\n",
              "        google.colab.kernel.accessAllowed ? 'block' : 'none';\n",
              "\n",
              "      async function convertToInteractive(key) {\n",
              "        const element = document.querySelector('#df-b6433e17-be2b-4dbb-ba18-b8f10dbf8e05');\n",
              "        const dataTable =\n",
              "          await google.colab.kernel.invokeFunction('convertToInteractive',\n",
              "                                                    [key], {});\n",
              "        if (!dataTable) return;\n",
              "\n",
              "        const docLinkHtml = 'Like what you see? Visit the ' +\n",
              "          '<a target=\"_blank\" href=https://colab.research.google.com/notebooks/data_table.ipynb>data table notebook</a>'\n",
              "          + ' to learn more about interactive tables.';\n",
              "        element.innerHTML = '';\n",
              "        dataTable['output_type'] = 'display_data';\n",
              "        await google.colab.output.renderOutput(dataTable, element);\n",
              "        const docLink = document.createElement('div');\n",
              "        docLink.innerHTML = docLinkHtml;\n",
              "        element.appendChild(docLink);\n",
              "      }\n",
              "    </script>\n",
              "  </div>\n",
              "\n",
              "\n",
              "<div id=\"df-6bc7fb55-a8b4-47ff-9255-070281569f24\">\n",
              "  <button class=\"colab-df-quickchart\" onclick=\"quickchart('df-6bc7fb55-a8b4-47ff-9255-070281569f24')\"\n",
              "            title=\"Suggest charts\"\n",
              "            style=\"display:none;\">\n",
              "\n",
              "<svg xmlns=\"http://www.w3.org/2000/svg\" height=\"24px\"viewBox=\"0 0 24 24\"\n",
              "     width=\"24px\">\n",
              "    <g>\n",
              "        <path d=\"M19 3H5c-1.1 0-2 .9-2 2v14c0 1.1.9 2 2 2h14c1.1 0 2-.9 2-2V5c0-1.1-.9-2-2-2zM9 17H7v-7h2v7zm4 0h-2V7h2v10zm4 0h-2v-4h2v4z\"/>\n",
              "    </g>\n",
              "</svg>\n",
              "  </button>\n",
              "\n",
              "<style>\n",
              "  .colab-df-quickchart {\n",
              "      --bg-color: #E8F0FE;\n",
              "      --fill-color: #1967D2;\n",
              "      --hover-bg-color: #E2EBFA;\n",
              "      --hover-fill-color: #174EA6;\n",
              "      --disabled-fill-color: #AAA;\n",
              "      --disabled-bg-color: #DDD;\n",
              "  }\n",
              "\n",
              "  [theme=dark] .colab-df-quickchart {\n",
              "      --bg-color: #3B4455;\n",
              "      --fill-color: #D2E3FC;\n",
              "      --hover-bg-color: #434B5C;\n",
              "      --hover-fill-color: #FFFFFF;\n",
              "      --disabled-bg-color: #3B4455;\n",
              "      --disabled-fill-color: #666;\n",
              "  }\n",
              "\n",
              "  .colab-df-quickchart {\n",
              "    background-color: var(--bg-color);\n",
              "    border: none;\n",
              "    border-radius: 50%;\n",
              "    cursor: pointer;\n",
              "    display: none;\n",
              "    fill: var(--fill-color);\n",
              "    height: 32px;\n",
              "    padding: 0;\n",
              "    width: 32px;\n",
              "  }\n",
              "\n",
              "  .colab-df-quickchart:hover {\n",
              "    background-color: var(--hover-bg-color);\n",
              "    box-shadow: 0 1px 2px rgba(60, 64, 67, 0.3), 0 1px 3px 1px rgba(60, 64, 67, 0.15);\n",
              "    fill: var(--button-hover-fill-color);\n",
              "  }\n",
              "\n",
              "  .colab-df-quickchart-complete:disabled,\n",
              "  .colab-df-quickchart-complete:disabled:hover {\n",
              "    background-color: var(--disabled-bg-color);\n",
              "    fill: var(--disabled-fill-color);\n",
              "    box-shadow: none;\n",
              "  }\n",
              "\n",
              "  .colab-df-spinner {\n",
              "    border: 2px solid var(--fill-color);\n",
              "    border-color: transparent;\n",
              "    border-bottom-color: var(--fill-color);\n",
              "    animation:\n",
              "      spin 1s steps(1) infinite;\n",
              "  }\n",
              "\n",
              "  @keyframes spin {\n",
              "    0% {\n",
              "      border-color: transparent;\n",
              "      border-bottom-color: var(--fill-color);\n",
              "      border-left-color: var(--fill-color);\n",
              "    }\n",
              "    20% {\n",
              "      border-color: transparent;\n",
              "      border-left-color: var(--fill-color);\n",
              "      border-top-color: var(--fill-color);\n",
              "    }\n",
              "    30% {\n",
              "      border-color: transparent;\n",
              "      border-left-color: var(--fill-color);\n",
              "      border-top-color: var(--fill-color);\n",
              "      border-right-color: var(--fill-color);\n",
              "    }\n",
              "    40% {\n",
              "      border-color: transparent;\n",
              "      border-right-color: var(--fill-color);\n",
              "      border-top-color: var(--fill-color);\n",
              "    }\n",
              "    60% {\n",
              "      border-color: transparent;\n",
              "      border-right-color: var(--fill-color);\n",
              "    }\n",
              "    80% {\n",
              "      border-color: transparent;\n",
              "      border-right-color: var(--fill-color);\n",
              "      border-bottom-color: var(--fill-color);\n",
              "    }\n",
              "    90% {\n",
              "      border-color: transparent;\n",
              "      border-bottom-color: var(--fill-color);\n",
              "    }\n",
              "  }\n",
              "</style>\n",
              "\n",
              "  <script>\n",
              "    async function quickchart(key) {\n",
              "      const quickchartButtonEl =\n",
              "        document.querySelector('#' + key + ' button');\n",
              "      quickchartButtonEl.disabled = true;  // To prevent multiple clicks.\n",
              "      quickchartButtonEl.classList.add('colab-df-spinner');\n",
              "      try {\n",
              "        const charts = await google.colab.kernel.invokeFunction(\n",
              "            'suggestCharts', [key], {});\n",
              "      } catch (error) {\n",
              "        console.error('Error during call to suggestCharts:', error);\n",
              "      }\n",
              "      quickchartButtonEl.classList.remove('colab-df-spinner');\n",
              "      quickchartButtonEl.classList.add('colab-df-quickchart-complete');\n",
              "    }\n",
              "    (() => {\n",
              "      let quickchartButtonEl =\n",
              "        document.querySelector('#df-6bc7fb55-a8b4-47ff-9255-070281569f24 button');\n",
              "      quickchartButtonEl.style.display =\n",
              "        google.colab.kernel.accessAllowed ? 'block' : 'none';\n",
              "    })();\n",
              "  </script>\n",
              "</div>\n",
              "\n",
              "    </div>\n",
              "  </div>\n"
            ],
            "application/vnd.google.colaboratory.intrinsic+json": {
              "type": "dataframe",
              "variable_name": "df"
            }
          },
          "metadata": {},
          "execution_count": 1
        }
      ],
      "source": [
        "import pandas as pd\n",
        "import numpy as np\n",
        "from sklearn.model_selection import train_test_split\n",
        "from sklearn.preprocessing import StandardScaler, LabelEncoder\n",
        "from sklearn.metrics import accuracy_score, precision_score, recall_score, f1_score, mean_squared_error, mean_absolute_error\n",
        "\n",
        "# Models\n",
        "from sklearn.linear_model import LinearRegression, LogisticRegression\n",
        "from sklearn.tree import DecisionTreeClassifier, DecisionTreeRegressor\n",
        "from sklearn.ensemble import RandomForestClassifier, RandomForestRegressor\n",
        "from sklearn.svm import SVC, SVR\n",
        "from sklearn.neighbors import KNeighborsClassifier, KNeighborsRegressor\n",
        "from sklearn.naive_bayes import GaussianNB\n",
        "\n",
        "# Loading the dataset\n",
        "df = pd.read_csv('/content/drive/MyDrive/archive.zip',\n",
        "encoding = 'latin',header=None)\n",
        "\n",
        "# Assign column names based on your structure\n",
        "df.columns = ['sentiment', 'id', 'date', 'query', 'user_id', 'text']\n",
        "\n",
        "df.head()\n"
      ]
    },
    {
      "cell_type": "code",
      "source": [
        "# Drop rows with missing values\n",
        "df = df.dropna()\n",
        "\n",
        "# Encode categorical variables\n",
        "label_encoders = {}\n",
        "for column in df.select_dtypes(include=['object']).columns:\n",
        "    le = LabelEncoder()\n",
        "    df[column] = le.fit_transform(df[column])\n",
        "    label_encoders[column] = le\n",
        "\n",
        "subset_df = df.sample(n=100000, random_state=42)  # taking subset of data\n",
        "X = subset_df.drop('sentiment', axis=1)\n",
        "y = subset_df['sentiment']\n",
        "\n",
        "# Split the data into training and testing sets\n",
        "X_train, X_test, y_train, y_test = train_test_split(X, y, test_size=0.2, random_state=42)\n",
        "\n",
        "# Initialize StandardScaler\n",
        "scaler = StandardScaler()\n",
        "\n",
        "# Scale X_train and X_test\n",
        "X_train = scaler.fit_transform(X_train)\n",
        "X_test = scaler.transform(X_test)\n",
        "\n",
        "# Now X_train and X_test are scaled and ready for model training\n"
      ],
      "metadata": {
        "id": "R1_ODKwEZGij"
      },
      "execution_count": 2,
      "outputs": []
    },
    {
      "cell_type": "markdown",
      "source": [
        "#Classification Model"
      ],
      "metadata": {
        "id": "sP7wIPDl-Osy"
      }
    },
    {
      "cell_type": "code",
      "source": [
        "def evaluate_classification_model(model, X_train, X_test, y_train, y_test):\n",
        "    model.fit(X_train, y_train)\n",
        "    y_pred = model.predict(X_test)\n",
        "\n",
        "    accuracy = accuracy_score(y_test, y_pred)\n",
        "    precision = precision_score(y_test, y_pred, average='weighted')\n",
        "    recall = recall_score(y_test, y_pred, average='weighted')\n",
        "    f1 = f1_score(y_test, y_pred, average='weighted')\n",
        "\n",
        "    return {'accuracy': accuracy, 'precision': precision, 'recall': recall, 'f1_score': f1}\n"
      ],
      "metadata": {
        "id": "xcM1O1Ou-SJy"
      },
      "execution_count": 3,
      "outputs": []
    },
    {
      "cell_type": "code",
      "source": [
        "# Initializing models\n",
        "classification_models = {\n",
        "    'Logistic Regression': LogisticRegression(),\n",
        "    'Decision Tree Classifier': DecisionTreeClassifier(),\n",
        "    'Random Forest Classifier': RandomForestClassifier(),\n",
        "    'Support Vector Classifier': SVC(),\n",
        "    'K-Nearest Neighbors Classifier': KNeighborsClassifier(),\n",
        "    'Naive Bayes': GaussianNB()\n",
        "}\n",
        "\n",
        "# Evaluating models\n",
        "classification_results = {}\n",
        "for model_name, model in classification_models.items():\n",
        "    classification_results[model_name] = evaluate_classification_model(model, X_train, X_test, y_train, y_test)\n",
        "\n",
        "classification_results\n"
      ],
      "metadata": {
        "id": "_QY-bj2D-Tf_",
        "colab": {
          "base_uri": "https://localhost:8080/"
        },
        "outputId": "f962e0f1-6461-4284-c802-5697a8fdb587"
      },
      "execution_count": 4,
      "outputs": [
        {
          "output_type": "execute_result",
          "data": {
            "text/plain": [
              "{'Logistic Regression': {'accuracy': 0.6233,\n",
              "  'precision': 0.6233743651540985,\n",
              "  'recall': 0.6233,\n",
              "  'f1_score': 0.6232488902357751},\n",
              " 'Decision Tree Classifier': {'accuracy': 0.6504,\n",
              "  'precision': 0.6504081434592139,\n",
              "  'recall': 0.6504,\n",
              "  'f1_score': 0.6503965529150101},\n",
              " 'Random Forest Classifier': {'accuracy': 0.67905,\n",
              "  'precision': 0.6851063952499408,\n",
              "  'recall': 0.67905,\n",
              "  'f1_score': 0.6763758535184945},\n",
              " 'Support Vector Classifier': {'accuracy': 0.6697,\n",
              "  'precision': 0.749203671845339,\n",
              "  'recall': 0.6697,\n",
              "  'f1_score': 0.6409943325495618},\n",
              " 'K-Nearest Neighbors Classifier': {'accuracy': 0.6451,\n",
              "  'precision': 0.6468317274884515,\n",
              "  'recall': 0.6451,\n",
              "  'f1_score': 0.6440290461193087},\n",
              " 'Naive Bayes': {'accuracy': 0.63605,\n",
              "  'precision': 0.6379201275228099,\n",
              "  'recall': 0.63605,\n",
              "  'f1_score': 0.6347872844930169}}"
            ]
          },
          "metadata": {},
          "execution_count": 4
        }
      ]
    },
    {
      "cell_type": "markdown",
      "source": [
        "#Regression model"
      ],
      "metadata": {
        "id": "2BOtIr78-hKy"
      }
    },
    {
      "cell_type": "code",
      "source": [
        "def evaluate_regression_model(model, X_train, X_test, y_train, y_test):\n",
        "    model.fit(X_train, y_train)\n",
        "    y_pred = model.predict(X_test)\n",
        "\n",
        "    mse = mean_squared_error(y_test, y_pred)\n",
        "    rmse = np.sqrt(mse)\n",
        "    mae = mean_absolute_error(y_test, y_pred)\n",
        "\n",
        "    return {'mse': mse, 'rmse': rmse, 'mae': mae}\n"
      ],
      "metadata": {
        "id": "GU7Td0G0-lWT"
      },
      "execution_count": 6,
      "outputs": []
    },
    {
      "cell_type": "code",
      "source": [
        "# Initializing models\n",
        "regression_models = {\n",
        "    'Linear Regression': LinearRegression(),\n",
        "    'Decision Tree Regressor': DecisionTreeRegressor(),\n",
        "    'Random Forest Regressor': RandomForestRegressor(),\n",
        "    'Support Vector Regressor': SVR(),\n",
        "    'K-Nearest Neighbors Regressor': KNeighborsRegressor()\n",
        "}\n",
        "\n",
        "# Evaluating models\n",
        "regression_results = {}\n",
        "for model_name, model in regression_models.items():\n",
        "    regression_results[model_name] = evaluate_regression_model(model, X_train, X_test, y_train, y_test)\n",
        "\n",
        "regression_results\n"
      ],
      "metadata": {
        "id": "V-r3_3uM-qhu",
        "colab": {
          "base_uri": "https://localhost:8080/"
        },
        "outputId": "c1c70327-f402-41dd-8ba3-009ef9df1268"
      },
      "execution_count": 7,
      "outputs": [
        {
          "output_type": "execute_result",
          "data": {
            "text/plain": [
              "{'Linear Regression': {'mse': 3.6335648802909426,\n",
              "  'rmse': 1.906191197202144,\n",
              "  'mae': 1.813746476066347},\n",
              " 'Decision Tree Regressor': {'mse': 5.5978,\n",
              "  'rmse': 2.365967032737354,\n",
              "  'mae': 1.3995},\n",
              " 'Random Forest Regressor': {'mse': 3.103516061191383,\n",
              "  'rmse': 1.761679897481771,\n",
              "  'mae': 1.437358080952381},\n",
              " 'Support Vector Regressor': {'mse': 4.465643350898937,\n",
              "  'rmse': 2.1132068878599974,\n",
              "  'mae': 1.3822988256101376},\n",
              " 'K-Nearest Neighbors Regressor': {'mse': 3.6471360000000006,\n",
              "  'rmse': 1.9097476273057654,\n",
              "  'mae': 1.52868}}"
            ]
          },
          "metadata": {},
          "execution_count": 7
        }
      ]
    },
    {
      "cell_type": "markdown",
      "source": [
        "#Result"
      ],
      "metadata": {
        "id": "oxsUfNXr_SjG"
      }
    },
    {
      "cell_type": "code",
      "source": [
        "# Combine classification and regression results\n",
        "all_results = {\n",
        "    'Classification Models': classification_results,\n",
        "    'Regression Models': regression_results\n",
        "}\n",
        "\n",
        "for model_type, results in all_results.items():\n",
        "    print(f\"Results for {model_type}:\")\n",
        "    for model_name, metrics in results.items():\n",
        "        print(f\"\\n{model_name}:\")\n",
        "        for metric, value in metrics.items():\n",
        "            print(f\"{metric}: {value}\")\n",
        "        print(\"\\n\")\n"
      ],
      "metadata": {
        "id": "bfJ5dPfr_USH",
        "colab": {
          "base_uri": "https://localhost:8080/"
        },
        "outputId": "02780165-e9f1-42c8-efa0-d58348491c8c"
      },
      "execution_count": 16,
      "outputs": [
        {
          "output_type": "stream",
          "name": "stdout",
          "text": [
            "Results for Classification Models:\n",
            "\n",
            "Logistic Regression:\n",
            "accuracy: 0.6233\n",
            "precision: 0.6233743651540985\n",
            "recall: 0.6233\n",
            "f1_score: 0.6232488902357751\n",
            "\n",
            "\n",
            "\n",
            "Decision Tree Classifier:\n",
            "accuracy: 0.6504\n",
            "precision: 0.6504081434592139\n",
            "recall: 0.6504\n",
            "f1_score: 0.6503965529150101\n",
            "\n",
            "\n",
            "\n",
            "Random Forest Classifier:\n",
            "accuracy: 0.67905\n",
            "precision: 0.6851063952499408\n",
            "recall: 0.67905\n",
            "f1_score: 0.6763758535184945\n",
            "\n",
            "\n",
            "\n",
            "Support Vector Classifier:\n",
            "accuracy: 0.6697\n",
            "precision: 0.749203671845339\n",
            "recall: 0.6697\n",
            "f1_score: 0.6409943325495618\n",
            "\n",
            "\n",
            "\n",
            "K-Nearest Neighbors Classifier:\n",
            "accuracy: 0.6451\n",
            "precision: 0.6468317274884515\n",
            "recall: 0.6451\n",
            "f1_score: 0.6440290461193087\n",
            "\n",
            "\n",
            "\n",
            "Naive Bayes:\n",
            "accuracy: 0.63605\n",
            "precision: 0.6379201275228099\n",
            "recall: 0.63605\n",
            "f1_score: 0.6347872844930169\n",
            "\n",
            "\n",
            "Results for Regression Models:\n",
            "\n",
            "Linear Regression:\n",
            "mse: 3.6335648802909426\n",
            "rmse: 1.906191197202144\n",
            "mae: 1.813746476066347\n",
            "\n",
            "\n",
            "\n",
            "Decision Tree Regressor:\n",
            "mse: 5.5978\n",
            "rmse: 2.365967032737354\n",
            "mae: 1.3995\n",
            "\n",
            "\n",
            "\n",
            "Random Forest Regressor:\n",
            "mse: 3.103516061191383\n",
            "rmse: 1.761679897481771\n",
            "mae: 1.437358080952381\n",
            "\n",
            "\n",
            "\n",
            "Support Vector Regressor:\n",
            "mse: 4.465643350898937\n",
            "rmse: 2.1132068878599974\n",
            "mae: 1.3822988256101376\n",
            "\n",
            "\n",
            "\n",
            "K-Nearest Neighbors Regressor:\n",
            "mse: 3.6471360000000006\n",
            "rmse: 1.9097476273057654\n",
            "mae: 1.52868\n",
            "\n",
            "\n"
          ]
        }
      ]
    },
    {
      "cell_type": "code",
      "source": [
        "import matplotlib.pyplot as plt\n",
        "def plot_results(all_results):\n",
        "    fig, axes = plt.subplots(1, 2, figsize=(14, 6))\n",
        "\n",
        "    # Plot classification results\n",
        "    class_results = all_results['Classification Models']\n",
        "    metrics = ['accuracy', 'precision', 'recall', 'f1_score']\n",
        "    for i, metric in enumerate(metrics):\n",
        "        ax = axes[0]\n",
        "        model_names = list(class_results.keys())\n",
        "        values = [class_results[model][metric] for model in model_names]\n",
        "        ax.bar(np.arange(len(model_names)) + i * 0.2, values, width=0.2, label=metric)\n",
        "\n",
        "    ax.set_title('Classification Models')\n",
        "    ax.set_xlabel('Models')\n",
        "    ax.set_ylabel('Scores')\n",
        "    ax.set_xticks(np.arange(len(model_names)))\n",
        "    ax.set_xticklabels(model_names, rotation=45)\n",
        "    ax.legend()\n",
        "\n",
        "    # Plot regression results\n",
        "    reg_results = all_results['Regression Models']\n",
        "    metrics = ['mse', 'rmse', 'mae']\n",
        "    for i, metric in enumerate(metrics):\n",
        "        ax = axes[1]\n",
        "        model_names = list(reg_results.keys())\n",
        "        values = [reg_results[model].get(metric, 0) for model in model_names]\n",
        "        print(f\"Metric: {metric}, Values: {values}\")  # Debug print statement\n",
        "        ax.bar(np.arange(len(model_names)) + i * 0.2, values, width=0.2, label=metric)\n",
        "\n",
        "    ax.set_title('Regression Models')\n",
        "    ax.set_xlabel('Models')\n",
        "    ax.set_ylabel('Scores')\n",
        "    ax.set_xticks(np.arange(len(model_names)))\n",
        "    ax.set_xticklabels(model_names, rotation=45)\n",
        "    ax.legend()\n",
        "\n",
        "    plt.tight_layout()\n",
        "    plt.show()\n",
        "\n",
        "# Plot the results\n",
        "plot_results(all_results)"
      ],
      "metadata": {
        "colab": {
          "base_uri": "https://localhost:8080/",
          "height": 569
        },
        "id": "5PS4pQEM5njc",
        "outputId": "9bc4461e-018a-4eac-cbc7-3cb9677ae1dd"
      },
      "execution_count": 14,
      "outputs": [
        {
          "output_type": "stream",
          "name": "stdout",
          "text": [
            "Metric: mse, Values: [3.6335648802909426, 5.5978, 3.103516061191383, 4.465643350898937, 3.6471360000000006]\n",
            "Metric: rmse, Values: [1.906191197202144, 2.365967032737354, 1.761679897481771, 2.1132068878599974, 1.9097476273057654]\n",
            "Metric: mae, Values: [1.813746476066347, 1.3995, 1.437358080952381, 1.3822988256101376, 1.52868]\n"
          ]
        },
        {
          "output_type": "display_data",
          "data": {
            "text/plain": [
              "<Figure size 1400x600 with 2 Axes>"
            ],
            "image/png": "[encoded data removed]"
          },
          "metadata": {}
        }
      ]
    },
    {
      "cell_type": "code",
      "source": [
        "# identify best model based on F1 score for classification and RMSE for regression\n",
        "best_classification_model = max(classification_results, key=lambda x: classification_results[x]['f1_score'])\n",
        "best_regression_model = min(regression_results, key=lambda x: regression_results[x]['rmse'])\n",
        "\n",
        "print(f\"Best Classification Model: {best_classification_model} with F1 Score: {classification_results[best_classification_model]['f1_score']}\")\n",
        "print(f\"Best Regression Model: {best_regression_model} with RMSE: {regression_results[best_regression_model]['rmse']}\")"
      ],
      "metadata": {
        "id": "FRjhyLIO_Y9L",
        "colab": {
          "base_uri": "https://localhost:8080/"
        },
        "outputId": "e6f16073-dcff-4f4a-a357-24d325aba468"
      },
      "execution_count": 15,
      "outputs": [
        {
          "output_type": "stream",
          "name": "stdout",
          "text": [
            "Best Classification Model: Random Forest Classifier with F1 Score: 0.6763758535184945\n",
            "Best Regression Model: Random Forest Regressor with RMSE: 1.761679897481771\n"
          ]
        }
      ]
    }
  ]
}